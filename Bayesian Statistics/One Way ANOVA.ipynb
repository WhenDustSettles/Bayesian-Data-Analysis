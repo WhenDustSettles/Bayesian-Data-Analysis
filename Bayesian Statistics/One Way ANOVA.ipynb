{
 "cells": [
  {
   "cell_type": "markdown",
   "metadata": {},
   "source": [
    "# One Way ANOVA Model using JAGS"
   ]
  },
  {
   "cell_type": "code",
   "execution_count": 1,
   "metadata": {},
   "outputs": [],
   "source": [
    "data(\"PlantGrowth\")"
   ]
  },
  {
   "cell_type": "code",
   "execution_count": 2,
   "metadata": {},
   "outputs": [
    {
     "data": {
      "text/html": [
       "\n",
       "<table width=\"100%\" summary=\"page for PlantGrowth {datasets}\"><tr><td>PlantGrowth {datasets}</td><td style=\"text-align: right;\">R Documentation</td></tr></table>\n",
       "\n",
       "<h2>Results from an Experiment on Plant Growth</h2>\n",
       "\n",
       "<h3>Description</h3>\n",
       "\n",
       "<p>Results from an experiment to compare yields (as measured by dried\n",
       "weight of plants) obtained under a control and two different treatment\n",
       "conditions.\n",
       "</p>\n",
       "\n",
       "\n",
       "<h3>Usage</h3>\n",
       "\n",
       "<pre>PlantGrowth</pre>\n",
       "\n",
       "\n",
       "<h3>Format</h3>\n",
       "\n",
       "<p>A data frame of 30 cases on 2 variables.\n",
       "</p>\n",
       "\n",
       "<table summary=\"Rd table\">\n",
       "<tr>\n",
       " <td style=\"text-align: right;\">\n",
       "    [, 1] </td><td style=\"text-align: left;\"> weight </td><td style=\"text-align: left;\"> numeric </td>\n",
       "</tr>\n",
       "<tr>\n",
       " <td style=\"text-align: right;\">\n",
       "    [, 2] </td><td style=\"text-align: left;\"> group  </td><td style=\"text-align: left;\"> factor\n",
       "  </td>\n",
       "</tr>\n",
       "\n",
       "</table>\n",
       "\n",
       "<p>The levels of <code>group</code> are &lsquo;ctrl&rsquo;, &lsquo;trt1&rsquo;, and &lsquo;trt2&rsquo;.\n",
       "</p>\n",
       "\n",
       "\n",
       "<h3>Source</h3>\n",
       "\n",
       "<p>Dobson, A. J. (1983)\n",
       "<em>An Introduction to Statistical Modelling</em>.\n",
       "London: Chapman and Hall.\n",
       "</p>\n",
       "\n",
       "\n",
       "<h3>Examples</h3>\n",
       "\n",
       "<pre>\n",
       "## One factor ANOVA example from Dobson's book, cf. Table 7.4:\n",
       "require(stats); require(graphics)\n",
       "boxplot(weight ~ group, data = PlantGrowth, main = \"PlantGrowth data\",\n",
       "        ylab = \"Dried weight of plants\", col = \"lightgray\",\n",
       "        notch = TRUE, varwidth = TRUE)\n",
       "anova(lm(weight ~ group, data = PlantGrowth))\n",
       "</pre>\n",
       "\n",
       "<hr /><div style=\"text-align: center;\">[Package <em>datasets</em> version 3.5.1 ]</div>"
      ],
      "text/latex": [
       "\\inputencoding{utf8}\n",
       "\\HeaderA{PlantGrowth}{Results from an Experiment on Plant Growth}{PlantGrowth}\n",
       "\\keyword{datasets}{PlantGrowth}\n",
       "%\n",
       "\\begin{Description}\\relax\n",
       "Results from an experiment to compare yields (as measured by dried\n",
       "weight of plants) obtained under a control and two different treatment\n",
       "conditions.\n",
       "\\end{Description}\n",
       "%\n",
       "\\begin{Usage}\n",
       "\\begin{verbatim}\n",
       "PlantGrowth\n",
       "\\end{verbatim}\n",
       "\\end{Usage}\n",
       "%\n",
       "\\begin{Format}\n",
       "A data frame of 30 cases on 2 variables.\n",
       "\n",
       "\n",
       "\\Tabular{rll}{\n",
       "[, 1] & weight & numeric \\\\{}\n",
       "[, 2] & group  & factor\n",
       "}\n",
       "\n",
       "The levels of \\code{group} are `ctrl', `trt1', and `trt2'.\n",
       "\\end{Format}\n",
       "%\n",
       "\\begin{Source}\\relax\n",
       "Dobson, A. J. (1983)\n",
       "\\emph{An Introduction to Statistical Modelling}.\n",
       "London: Chapman and Hall.\n",
       "\\end{Source}\n",
       "%\n",
       "\\begin{Examples}\n",
       "\\begin{ExampleCode}\n",
       "## One factor ANOVA example from Dobson's book, cf. Table 7.4:\n",
       "require(stats); require(graphics)\n",
       "boxplot(weight ~ group, data = PlantGrowth, main = \"PlantGrowth data\",\n",
       "        ylab = \"Dried weight of plants\", col = \"lightgray\",\n",
       "        notch = TRUE, varwidth = TRUE)\n",
       "anova(lm(weight ~ group, data = PlantGrowth))\n",
       "\\end{ExampleCode}\n",
       "\\end{Examples}"
      ],
      "text/plain": [
       "PlantGrowth              package:datasets              R Documentation\n",
       "\n",
       "_\bR_\be_\bs_\bu_\bl_\bt_\bs _\bf_\br_\bo_\bm _\ba_\bn _\bE_\bx_\bp_\be_\br_\bi_\bm_\be_\bn_\bt _\bo_\bn _\bP_\bl_\ba_\bn_\bt _\bG_\br_\bo_\bw_\bt_\bh\n",
       "\n",
       "_\bD_\be_\bs_\bc_\br_\bi_\bp_\bt_\bi_\bo_\bn:\n",
       "\n",
       "     Results from an experiment to compare yields (as measured by dried\n",
       "     weight of plants) obtained under a control and two different\n",
       "     treatment conditions.\n",
       "\n",
       "_\bU_\bs_\ba_\bg_\be:\n",
       "\n",
       "     PlantGrowth\n",
       "     \n",
       "_\bF_\bo_\br_\bm_\ba_\bt:\n",
       "\n",
       "     A data frame of 30 cases on 2 variables.\n",
       "\n",
       "       [, 1]  weight  numeric \n",
       "       [, 2]  group   factor  \n",
       "      \n",
       "     The levels of ‘group’ are ‘ctrl’, ‘trt1’, and ‘trt2’.\n",
       "\n",
       "_\bS_\bo_\bu_\br_\bc_\be:\n",
       "\n",
       "     Dobson, A. J. (1983) _An Introduction to Statistical Modelling_.\n",
       "     London: Chapman and Hall.\n",
       "\n",
       "_\bE_\bx_\ba_\bm_\bp_\bl_\be_\bs:\n",
       "\n",
       "     ## One factor ANOVA example from Dobson's book, cf. Table 7.4:\n",
       "     require(stats); require(graphics)\n",
       "     boxplot(weight ~ group, data = PlantGrowth, main = \"PlantGrowth data\",\n",
       "             ylab = \"Dried weight of plants\", col = \"lightgray\",\n",
       "             notch = TRUE, varwidth = TRUE)\n",
       "     anova(lm(weight ~ group, data = PlantGrowth))\n",
       "     "
      ]
     },
     "metadata": {},
     "output_type": "display_data"
    }
   ],
   "source": [
    "?PlantGrowth"
   ]
  },
  {
   "cell_type": "code",
   "execution_count": 3,
   "metadata": {},
   "outputs": [
    {
     "data": {
      "text/html": [
       "<table>\n",
       "<caption>A data.frame: 6 × 2</caption>\n",
       "<thead>\n",
       "\t<tr><th></th><th scope=col>weight</th><th scope=col>group</th></tr>\n",
       "\t<tr><th></th><th scope=col>&lt;dbl&gt;</th><th scope=col>&lt;fct&gt;</th></tr>\n",
       "</thead>\n",
       "<tbody>\n",
       "\t<tr><th scope=row>1</th><td>4.17</td><td>ctrl</td></tr>\n",
       "\t<tr><th scope=row>2</th><td>5.58</td><td>ctrl</td></tr>\n",
       "\t<tr><th scope=row>3</th><td>5.18</td><td>ctrl</td></tr>\n",
       "\t<tr><th scope=row>4</th><td>6.11</td><td>ctrl</td></tr>\n",
       "\t<tr><th scope=row>5</th><td>4.50</td><td>ctrl</td></tr>\n",
       "\t<tr><th scope=row>6</th><td>4.61</td><td>ctrl</td></tr>\n",
       "</tbody>\n",
       "</table>\n"
      ],
      "text/latex": [
       "A data.frame: 6 × 2\n",
       "\\begin{tabular}{r|ll}\n",
       "  & weight & group\\\\\n",
       "  & <dbl> & <fct>\\\\\n",
       "\\hline\n",
       "\t1 & 4.17 & ctrl\\\\\n",
       "\t2 & 5.58 & ctrl\\\\\n",
       "\t3 & 5.18 & ctrl\\\\\n",
       "\t4 & 6.11 & ctrl\\\\\n",
       "\t5 & 4.50 & ctrl\\\\\n",
       "\t6 & 4.61 & ctrl\\\\\n",
       "\\end{tabular}\n"
      ],
      "text/markdown": [
       "\n",
       "A data.frame: 6 × 2\n",
       "\n",
       "| <!--/--> | weight &lt;dbl&gt; | group &lt;fct&gt; |\n",
       "|---|---|---|\n",
       "| 1 | 4.17 | ctrl |\n",
       "| 2 | 5.58 | ctrl |\n",
       "| 3 | 5.18 | ctrl |\n",
       "| 4 | 6.11 | ctrl |\n",
       "| 5 | 4.50 | ctrl |\n",
       "| 6 | 4.61 | ctrl |\n",
       "\n"
      ],
      "text/plain": [
       "  weight group\n",
       "1 4.17   ctrl \n",
       "2 5.58   ctrl \n",
       "3 5.18   ctrl \n",
       "4 6.11   ctrl \n",
       "5 4.50   ctrl \n",
       "6 4.61   ctrl "
      ]
     },
     "metadata": {},
     "output_type": "display_data"
    }
   ],
   "source": [
    "head(PlantGrowth)"
   ]
  },
  {
   "cell_type": "markdown",
   "metadata": {},
   "source": [
    "Since the second feature in the dataset is a Factor therefore we'll use Boxplot to visualise it."
   ]
  },
  {
   "cell_type": "code",
   "execution_count": 5,
   "metadata": {},
   "outputs": [
    {
     "data": {
      "image/png": "[encoded data removed]",
      "text/plain": [
       "plot without title"
      ]
     },
     "metadata": {
      "image/png": {
       "height": 420,
       "width": 420
      },
      "text/plain": {
       "height": 420,
       "width": 420
      }
     },
     "output_type": "display_data"
    }
   ],
   "source": [
    "boxplot(weight ~ group, data = PlantGrowth)"
   ]
  },
  {
   "cell_type": "markdown",
   "metadata": {},
   "source": [
    "Black solid line -- Median"
   ]
  },
  {
   "cell_type": "markdown",
   "metadata": {},
   "source": [
    "We'll assume each group has the same variance."
   ]
  },
  {
   "cell_type": "markdown",
   "metadata": {},
   "source": [
    "## Reference Model with non-informative Prior"
   ]
  },
  {
   "cell_type": "code",
   "execution_count": 6,
   "metadata": {},
   "outputs": [],
   "source": [
    "ref_lmod = lm(formula = weight ~ group, data = PlantGrowth)"
   ]
  },
  {
   "cell_type": "code",
   "execution_count": 7,
   "metadata": {},
   "outputs": [
    {
     "data": {
      "text/plain": [
       "\n",
       "Call:\n",
       "lm(formula = weight ~ group, data = PlantGrowth)\n",
       "\n",
       "Residuals:\n",
       "    Min      1Q  Median      3Q     Max \n",
       "-1.0710 -0.4180 -0.0060  0.2627  1.3690 \n",
       "\n",
       "Coefficients:\n",
       "            Estimate Std. Error t value Pr(>|t|)    \n",
       "(Intercept)   5.0320     0.1971  25.527   <2e-16 ***\n",
       "grouptrt1    -0.3710     0.2788  -1.331   0.1944    \n",
       "grouptrt2     0.4940     0.2788   1.772   0.0877 .  \n",
       "---\n",
       "Signif. codes:  0 ‘***’ 0.001 ‘**’ 0.01 ‘*’ 0.05 ‘.’ 0.1 ‘ ’ 1\n",
       "\n",
       "Residual standard error: 0.6234 on 27 degrees of freedom\n",
       "Multiple R-squared:  0.2641,\tAdjusted R-squared:  0.2096 \n",
       "F-statistic: 4.846 on 2 and 27 DF,  p-value: 0.01591\n"
      ]
     },
     "metadata": {},
     "output_type": "display_data"
    }
   ],
   "source": [
    "summary(ref_lmod)"
   ]
  },
  {
   "cell_type": "markdown",
   "metadata": {},
   "source": [
    "Above are the posterior mean estimates regarding the three parameters governing the mean.\n",
    "\n",
    "Intercept - Mean yield for the control group\n",
    "grouptrt1 - what to add to Intercept to get Mean for treatment group 1.\n",
    "grouptrt2 - what to add to Intercept to get Mean for treatment group 2."
   ]
  },
  {
   "cell_type": "markdown",
   "metadata": {},
   "source": [
    "### ANOVA Table "
   ]
  },
  {
   "cell_type": "code",
   "execution_count": 8,
   "metadata": {},
   "outputs": [
    {
     "data": {
      "text/html": [
       "<table>\n",
       "<caption>A anova: 2 × 5</caption>\n",
       "<thead>\n",
       "\t<tr><th></th><th scope=col>Df</th><th scope=col>Sum Sq</th><th scope=col>Mean Sq</th><th scope=col>F value</th><th scope=col>Pr(&gt;F)</th></tr>\n",
       "\t<tr><th></th><th scope=col>&lt;int&gt;</th><th scope=col>&lt;dbl&gt;</th><th scope=col>&lt;dbl&gt;</th><th scope=col>&lt;dbl&gt;</th><th scope=col>&lt;dbl&gt;</th></tr>\n",
       "</thead>\n",
       "<tbody>\n",
       "\t<tr><th scope=row>group</th><td> 2</td><td> 3.76634</td><td>1.8831700</td><td>4.846088</td><td>0.01590996</td></tr>\n",
       "\t<tr><th scope=row>Residuals</th><td>27</td><td>10.49209</td><td>0.3885959</td><td>      NA</td><td>        NA</td></tr>\n",
       "</tbody>\n",
       "</table>\n"
      ],
      "text/latex": [
       "A anova: 2 × 5\n",
       "\\begin{tabular}{r|lllll}\n",
       "  & Df & Sum Sq & Mean Sq & F value & Pr(>F)\\\\\n",
       "  & <int> & <dbl> & <dbl> & <dbl> & <dbl>\\\\\n",
       "\\hline\n",
       "\tgroup &  2 &  3.76634 & 1.8831700 & 4.846088 & 0.01590996\\\\\n",
       "\tResiduals & 27 & 10.49209 & 0.3885959 &       NA &         NA\\\\\n",
       "\\end{tabular}\n"
      ],
      "text/markdown": [
       "\n",
       "A anova: 2 × 5\n",
       "\n",
       "| <!--/--> | Df &lt;int&gt; | Sum Sq &lt;dbl&gt; | Mean Sq &lt;dbl&gt; | F value &lt;dbl&gt; | Pr(&gt;F) &lt;dbl&gt; |\n",
       "|---|---|---|---|---|---|\n",
       "| group |  2 |  3.76634 | 1.8831700 | 4.846088 | 0.01590996 |\n",
       "| Residuals | 27 | 10.49209 | 0.3885959 |       NA |         NA |\n",
       "\n"
      ],
      "text/plain": [
       "          Df Sum Sq   Mean Sq   F value  Pr(>F)    \n",
       "group      2  3.76634 1.8831700 4.846088 0.01590996\n",
       "Residuals 27 10.49209 0.3885959       NA         NA"
      ]
     },
     "metadata": {},
     "output_type": "display_data"
    }
   ],
   "source": [
    "anova(ref_lmod)"
   ]
  },
  {
   "cell_type": "markdown",
   "metadata": {},
   "source": [
    "It indicates the result of a statistical test for each factor variable, whether that factor variable significantly contributes to the variability in the data."
   ]
  },
  {
   "cell_type": "markdown",
   "metadata": {},
   "source": [
    "Mean Sq for group -- Variability between the factors\n",
    "\n",
    "Mean Sq for Residuals -- Variabilty within the factors"
   ]
  },
  {
   "cell_type": "markdown",
   "metadata": {},
   "source": [
    "## Cell Means Bayesian Model"
   ]
  },
  {
   "cell_type": "markdown",
   "metadata": {},
   "source": [
    "Each group gets it's own mean"
   ]
  },
  {
   "cell_type": "code",
   "execution_count": 25,
   "metadata": {},
   "outputs": [],
   "source": [
    "cell_means_mod = \"model{\n",
    "    \n",
    "    \n",
    "    #Likelihood\n",
    "    \n",
    "    for (i in 1:length(y)){\n",
    "        \n",
    "        y[i] ~ dnorm(mu[group[i]], prec)\n",
    "          \n",
    "    }\n",
    "    \n",
    "    for (i in 1:3){\n",
    "        \n",
    "        mu[i] ~ dnorm(0, 1/1e6)\n",
    "        \n",
    "    }\n",
    "    \n",
    "        #Priors\n",
    "\n",
    "    prec ~ dgamma(5/2, 5*1/2)\n",
    "    sigma = sqrt(1/prec)\n",
    "    \n",
    "}\""
   ]
  },
  {
   "cell_type": "code",
   "execution_count": 12,
   "metadata": {},
   "outputs": [],
   "source": [
    "set.seed(42)"
   ]
  },
  {
   "cell_type": "code",
   "execution_count": 14,
   "metadata": {},
   "outputs": [
    {
     "name": "stdout",
     "output_type": "stream",
     "text": [
      "'data.frame':\t30 obs. of  2 variables:\n",
      " $ weight: num  4.17 5.58 5.18 6.11 4.5 4.61 5.17 4.53 5.33 5.14 ...\n",
      " $ group : Factor w/ 3 levels \"ctrl\",\"trt1\",..: 1 1 1 1 1 1 1 1 1 1 ...\n"
     ]
    }
   ],
   "source": [
    "str(PlantGrowth)"
   ]
  },
  {
   "cell_type": "code",
   "execution_count": 23,
   "metadata": {},
   "outputs": [],
   "source": [
    "data_jags = list(\"y\" = PlantGrowth$weight, \"group\" = as.numeric(PlantGrowth$group))"
   ]
  },
  {
   "cell_type": "code",
   "execution_count": 24,
   "metadata": {},
   "outputs": [],
   "source": [
    "model_params = c(\"mu\", \"sigma\")"
   ]
  },
  {
   "cell_type": "code",
   "execution_count": 26,
   "metadata": {},
   "outputs": [],
   "source": [
    "inits = function(){\n",
    "    \n",
    "    inits = list(\"mu\" = rnorm(3,0,100), \"prec\" = rgamma(1,1,1))\n",
    "    \n",
    "}"
   ]
  },
  {
   "cell_type": "code",
   "execution_count": 27,
   "metadata": {},
   "outputs": [
    {
     "name": "stderr",
     "output_type": "stream",
     "text": [
      "Loading required package: coda\n",
      "\n",
      "Linked to JAGS 4.3.0\n",
      "\n",
      "Loaded modules: basemod,bugs\n",
      "\n"
     ]
    }
   ],
   "source": [
    "library(rjags)"
   ]
  },
  {
   "cell_type": "code",
   "execution_count": 28,
   "metadata": {},
   "outputs": [
    {
     "name": "stdout",
     "output_type": "stream",
     "text": [
      "Compiling model graph\n",
      "   Resolving undeclared variables\n",
      "   Allocating nodes\n",
      "Graph information:\n",
      "   Observed stochastic nodes: 30\n",
      "   Unobserved stochastic nodes: 4\n",
      "   Total graph size: 74\n",
      "\n",
      "Initializing model\n",
      "\n"
     ]
    }
   ],
   "source": [
    "model = jags.model(file = textConnection(cell_means_mod), data = data_jags, inits = inits, n.chains = 3)"
   ]
  },
  {
   "cell_type": "code",
   "execution_count": 29,
   "metadata": {},
   "outputs": [],
   "source": [
    "update(model, 1e3)"
   ]
  },
  {
   "cell_type": "code",
   "execution_count": 30,
   "metadata": {},
   "outputs": [],
   "source": [
    "model_sim = coda.samples(model = model, variable.names = model_params, n.iter = 5000)"
   ]
  },
  {
   "cell_type": "code",
   "execution_count": 31,
   "metadata": {},
   "outputs": [],
   "source": [
    "model_csim = do.call(rbind, model_sim)"
   ]
  },
  {
   "cell_type": "code",
   "execution_count": 32,
   "metadata": {},
   "outputs": [
    {
     "data": {
      "image/png": "[encoded data removed]",
      "text/plain": [
       "Plot with title “Density of sigma”"
      ]
     },
     "metadata": {
      "image/png": {
       "height": 420,
       "width": 420
      },
      "text/plain": {
       "height": 420,
       "width": 420
      }
     },
     "output_type": "display_data"
    }
   ],
   "source": [
    "plot(model_sim)"
   ]
  },
  {
   "cell_type": "code",
   "execution_count": 33,
   "metadata": {},
   "outputs": [
    {
     "data": {
      "text/plain": [
       "Potential scale reduction factors:\n",
       "\n",
       "      Point est. Upper C.I.\n",
       "mu[1]          1          1\n",
       "mu[2]          1          1\n",
       "mu[3]          1          1\n",
       "sigma          1          1\n",
       "\n",
       "Multivariate psrf\n",
       "\n",
       "1"
      ]
     },
     "metadata": {},
     "output_type": "display_data"
    }
   ],
   "source": [
    "gelman.diag(model_sim)"
   ]
  },
  {
   "cell_type": "code",
   "execution_count": 34,
   "metadata": {},
   "outputs": [
    {
     "data": {
      "text/html": [
       "<table>\n",
       "<caption>A matrix: 5 × 4 of type dbl</caption>\n",
       "<thead>\n",
       "\t<tr><th></th><th scope=col>mu[1]</th><th scope=col>mu[2]</th><th scope=col>mu[3]</th><th scope=col>sigma</th></tr>\n",
       "</thead>\n",
       "<tbody>\n",
       "\t<tr><th scope=row>Lag 0</th><td> 1.0000000000</td><td> 1.000000000</td><td> 1.000000000</td><td> 1.000000000</td></tr>\n",
       "\t<tr><th scope=row>Lag 1</th><td> 0.0082870580</td><td> 0.012744929</td><td> 0.002329367</td><td> 0.112742724</td></tr>\n",
       "\t<tr><th scope=row>Lag 5</th><td>-0.0012757539</td><td>-0.006746834</td><td>-0.004053336</td><td>-0.001889658</td></tr>\n",
       "\t<tr><th scope=row>Lag 10</th><td> 0.0002942378</td><td> 0.011377749</td><td> 0.002348275</td><td> 0.009837892</td></tr>\n",
       "\t<tr><th scope=row>Lag 50</th><td> 0.0084852523</td><td>-0.005960933</td><td>-0.014894457</td><td>-0.001373366</td></tr>\n",
       "</tbody>\n",
       "</table>\n"
      ],
      "text/latex": [
       "A matrix: 5 × 4 of type dbl\n",
       "\\begin{tabular}{r|llll}\n",
       "  & mu{[}1{]} & mu{[}2{]} & mu{[}3{]} & sigma\\\\\n",
       "\\hline\n",
       "\tLag 0 &  1.0000000000 &  1.000000000 &  1.000000000 &  1.000000000\\\\\n",
       "\tLag 1 &  0.0082870580 &  0.012744929 &  0.002329367 &  0.112742724\\\\\n",
       "\tLag 5 & -0.0012757539 & -0.006746834 & -0.004053336 & -0.001889658\\\\\n",
       "\tLag 10 &  0.0002942378 &  0.011377749 &  0.002348275 &  0.009837892\\\\\n",
       "\tLag 50 &  0.0084852523 & -0.005960933 & -0.014894457 & -0.001373366\\\\\n",
       "\\end{tabular}\n"
      ],
      "text/markdown": [
       "\n",
       "A matrix: 5 × 4 of type dbl\n",
       "\n",
       "| <!--/--> | mu[1] | mu[2] | mu[3] | sigma |\n",
       "|---|---|---|---|---|\n",
       "| Lag 0 |  1.0000000000 |  1.000000000 |  1.000000000 |  1.000000000 |\n",
       "| Lag 1 |  0.0082870580 |  0.012744929 |  0.002329367 |  0.112742724 |\n",
       "| Lag 5 | -0.0012757539 | -0.006746834 | -0.004053336 | -0.001889658 |\n",
       "| Lag 10 |  0.0002942378 |  0.011377749 |  0.002348275 |  0.009837892 |\n",
       "| Lag 50 |  0.0084852523 | -0.005960933 | -0.014894457 | -0.001373366 |\n",
       "\n"
      ],
      "text/plain": [
       "       mu[1]         mu[2]        mu[3]        sigma       \n",
       "Lag 0   1.0000000000  1.000000000  1.000000000  1.000000000\n",
       "Lag 1   0.0082870580  0.012744929  0.002329367  0.112742724\n",
       "Lag 5  -0.0012757539 -0.006746834 -0.004053336 -0.001889658\n",
       "Lag 10  0.0002942378  0.011377749  0.002348275  0.009837892\n",
       "Lag 50  0.0084852523 -0.005960933 -0.014894457 -0.001373366"
      ]
     },
     "metadata": {},
     "output_type": "display_data"
    }
   ],
   "source": [
    "autocorr.diag(model_sim)"
   ]
  },
  {
   "cell_type": "code",
   "execution_count": 35,
   "metadata": {},
   "outputs": [
    {
     "data": {
      "text/html": [
       "<style>\n",
       ".dl-inline {width: auto; margin:0; padding: 0}\n",
       ".dl-inline>dt, .dl-inline>dd {float: none; width: auto; display: inline-block}\n",
       ".dl-inline>dt::after {content: \":\\0020\"; padding-right: .5ex}\n",
       ".dl-inline>dt:not(:first-of-type) {padding-left: .5ex}\n",
       "</style><dl class=dl-inline><dt>mu[1]</dt><dd>15000</dd><dt>mu[2]</dt><dd>14751.3977995961</dd><dt>mu[3]</dt><dd>15000</dd><dt>sigma</dt><dd>11959.5284568088</dd></dl>\n"
      ],
      "text/latex": [
       "\\begin{description*}\n",
       "\\item[mu\\{{[}\\}1\\{{]}\\}] 15000\n",
       "\\item[mu\\{{[}\\}2\\{{]}\\}] 14751.3977995961\n",
       "\\item[mu\\{{[}\\}3\\{{]}\\}] 15000\n",
       "\\item[sigma] 11959.5284568088\n",
       "\\end{description*}\n"
      ],
      "text/markdown": [
       "mu[1]\n",
       ":   15000mu[2]\n",
       ":   14751.3977995961mu[3]\n",
       ":   15000sigma\n",
       ":   11959.5284568088\n",
       "\n"
      ],
      "text/plain": [
       "   mu[1]    mu[2]    mu[3]    sigma \n",
       "15000.00 14751.40 15000.00 11959.53 "
      ]
     },
     "metadata": {},
     "output_type": "display_data"
    }
   ],
   "source": [
    "effectiveSize(model_sim)"
   ]
  },
  {
   "cell_type": "markdown",
   "metadata": {},
   "source": [
    "So it has definitely converged."
   ]
  },
  {
   "cell_type": "code",
   "execution_count": 36,
   "metadata": {},
   "outputs": [],
   "source": [
    "post_means = colMeans(model_csim)"
   ]
  },
  {
   "cell_type": "code",
   "execution_count": 37,
   "metadata": {},
   "outputs": [
    {
     "data": {
      "text/html": [
       "<style>\n",
       ".dl-inline {width: auto; margin:0; padding: 0}\n",
       ".dl-inline>dt, .dl-inline>dd {float: none; width: auto; display: inline-block}\n",
       ".dl-inline>dt::after {content: \":\\0020\"; padding-right: .5ex}\n",
       ".dl-inline>dt:not(:first-of-type) {padding-left: .5ex}\n",
       "</style><dl class=dl-inline><dt>mu[1]</dt><dd>5.03325740053357</dd><dt>mu[2]</dt><dd>4.65852099000541</dd><dt>mu[3]</dt><dd>5.52580570617116</dd><dt>sigma</dt><dd>0.712489524215598</dd></dl>\n"
      ],
      "text/latex": [
       "\\begin{description*}\n",
       "\\item[mu\\{{[}\\}1\\{{]}\\}] 5.03325740053357\n",
       "\\item[mu\\{{[}\\}2\\{{]}\\}] 4.65852099000541\n",
       "\\item[mu\\{{[}\\}3\\{{]}\\}] 5.52580570617116\n",
       "\\item[sigma] 0.712489524215598\n",
       "\\end{description*}\n"
      ],
      "text/markdown": [
       "mu[1]\n",
       ":   5.03325740053357mu[2]\n",
       ":   4.65852099000541mu[3]\n",
       ":   5.52580570617116sigma\n",
       ":   0.712489524215598\n",
       "\n"
      ],
      "text/plain": [
       "    mu[1]     mu[2]     mu[3]     sigma \n",
       "5.0332574 4.6585210 5.5258057 0.7124895 "
      ]
     },
     "metadata": {},
     "output_type": "display_data"
    }
   ],
   "source": [
    "post_means"
   ]
  },
  {
   "cell_type": "code",
   "execution_count": 38,
   "metadata": {},
   "outputs": [
    {
     "data": {
      "text/html": [
       "<style>\n",
       ".dl-inline {width: auto; margin:0; padding: 0}\n",
       ".dl-inline>dt, .dl-inline>dd {float: none; width: auto; display: inline-block}\n",
       ".dl-inline>dt::after {content: \":\\0020\"; padding-right: .5ex}\n",
       ".dl-inline>dt:not(:first-of-type) {padding-left: .5ex}\n",
       "</style><dl class=dl-inline><dt>(Intercept)</dt><dd>5.032</dd><dt>grouptrt1</dt><dd>-0.370999999999999</dd><dt>grouptrt2</dt><dd>0.494000000000001</dd></dl>\n"
      ],
      "text/latex": [
       "\\begin{description*}\n",
       "\\item[(Intercept)] 5.032\n",
       "\\item[grouptrt1] -0.370999999999999\n",
       "\\item[grouptrt2] 0.494000000000001\n",
       "\\end{description*}\n"
      ],
      "text/markdown": [
       "(Intercept)\n",
       ":   5.032grouptrt1\n",
       ":   -0.370999999999999grouptrt2\n",
       ":   0.494000000000001\n",
       "\n"
      ],
      "text/plain": [
       "(Intercept)   grouptrt1   grouptrt2 \n",
       "      5.032      -0.371       0.494 "
      ]
     },
     "metadata": {},
     "output_type": "display_data"
    }
   ],
   "source": [
    "coefficients(ref_lmod)"
   ]
  },
  {
   "cell_type": "markdown",
   "metadata": {},
   "source": [
    "This looks very close."
   ]
  },
  {
   "cell_type": "markdown",
   "metadata": {},
   "source": [
    "### Residuals"
   ]
  },
  {
   "cell_type": "code",
   "execution_count": 39,
   "metadata": {},
   "outputs": [],
   "source": [
    "y_pred_mod = post_means[1:3][data_jags$group]"
   ]
  },
  {
   "cell_type": "code",
   "execution_count": 40,
   "metadata": {},
   "outputs": [
    {
     "data": {
      "text/html": [
       "<style>\n",
       ".dl-inline {width: auto; margin:0; padding: 0}\n",
       ".dl-inline>dt, .dl-inline>dd {float: none; width: auto; display: inline-block}\n",
       ".dl-inline>dt::after {content: \":\\0020\"; padding-right: .5ex}\n",
       ".dl-inline>dt:not(:first-of-type) {padding-left: .5ex}\n",
       "</style><dl class=dl-inline><dt>mu[1]</dt><dd>5.03325740053357</dd><dt>mu[1]</dt><dd>5.03325740053357</dd><dt>mu[1]</dt><dd>5.03325740053357</dd><dt>mu[1]</dt><dd>5.03325740053357</dd><dt>mu[1]</dt><dd>5.03325740053357</dd><dt>mu[1]</dt><dd>5.03325740053357</dd><dt>mu[1]</dt><dd>5.03325740053357</dd><dt>mu[1]</dt><dd>5.03325740053357</dd><dt>mu[1]</dt><dd>5.03325740053357</dd><dt>mu[1]</dt><dd>5.03325740053357</dd><dt>mu[2]</dt><dd>4.65852099000541</dd><dt>mu[2]</dt><dd>4.65852099000541</dd><dt>mu[2]</dt><dd>4.65852099000541</dd><dt>mu[2]</dt><dd>4.65852099000541</dd><dt>mu[2]</dt><dd>4.65852099000541</dd><dt>mu[2]</dt><dd>4.65852099000541</dd><dt>mu[2]</dt><dd>4.65852099000541</dd><dt>mu[2]</dt><dd>4.65852099000541</dd><dt>mu[2]</dt><dd>4.65852099000541</dd><dt>mu[2]</dt><dd>4.65852099000541</dd><dt>mu[3]</dt><dd>5.52580570617116</dd><dt>mu[3]</dt><dd>5.52580570617116</dd><dt>mu[3]</dt><dd>5.52580570617116</dd><dt>mu[3]</dt><dd>5.52580570617116</dd><dt>mu[3]</dt><dd>5.52580570617116</dd><dt>mu[3]</dt><dd>5.52580570617116</dd><dt>mu[3]</dt><dd>5.52580570617116</dd><dt>mu[3]</dt><dd>5.52580570617116</dd><dt>mu[3]</dt><dd>5.52580570617116</dd><dt>mu[3]</dt><dd>5.52580570617116</dd></dl>\n"
      ],
      "text/latex": [
       "\\begin{description*}\n",
       "\\item[mu\\{{[}\\}1\\{{]}\\}] 5.03325740053357\n",
       "\\item[mu\\{{[}\\}1\\{{]}\\}] 5.03325740053357\n",
       "\\item[mu\\{{[}\\}1\\{{]}\\}] 5.03325740053357\n",
       "\\item[mu\\{{[}\\}1\\{{]}\\}] 5.03325740053357\n",
       "\\item[mu\\{{[}\\}1\\{{]}\\}] 5.03325740053357\n",
       "\\item[mu\\{{[}\\}1\\{{]}\\}] 5.03325740053357\n",
       "\\item[mu\\{{[}\\}1\\{{]}\\}] 5.03325740053357\n",
       "\\item[mu\\{{[}\\}1\\{{]}\\}] 5.03325740053357\n",
       "\\item[mu\\{{[}\\}1\\{{]}\\}] 5.03325740053357\n",
       "\\item[mu\\{{[}\\}1\\{{]}\\}] 5.03325740053357\n",
       "\\item[mu\\{{[}\\}2\\{{]}\\}] 4.65852099000541\n",
       "\\item[mu\\{{[}\\}2\\{{]}\\}] 4.65852099000541\n",
       "\\item[mu\\{{[}\\}2\\{{]}\\}] 4.65852099000541\n",
       "\\item[mu\\{{[}\\}2\\{{]}\\}] 4.65852099000541\n",
       "\\item[mu\\{{[}\\}2\\{{]}\\}] 4.65852099000541\n",
       "\\item[mu\\{{[}\\}2\\{{]}\\}] 4.65852099000541\n",
       "\\item[mu\\{{[}\\}2\\{{]}\\}] 4.65852099000541\n",
       "\\item[mu\\{{[}\\}2\\{{]}\\}] 4.65852099000541\n",
       "\\item[mu\\{{[}\\}2\\{{]}\\}] 4.65852099000541\n",
       "\\item[mu\\{{[}\\}2\\{{]}\\}] 4.65852099000541\n",
       "\\item[mu\\{{[}\\}3\\{{]}\\}] 5.52580570617116\n",
       "\\item[mu\\{{[}\\}3\\{{]}\\}] 5.52580570617116\n",
       "\\item[mu\\{{[}\\}3\\{{]}\\}] 5.52580570617116\n",
       "\\item[mu\\{{[}\\}3\\{{]}\\}] 5.52580570617116\n",
       "\\item[mu\\{{[}\\}3\\{{]}\\}] 5.52580570617116\n",
       "\\item[mu\\{{[}\\}3\\{{]}\\}] 5.52580570617116\n",
       "\\item[mu\\{{[}\\}3\\{{]}\\}] 5.52580570617116\n",
       "\\item[mu\\{{[}\\}3\\{{]}\\}] 5.52580570617116\n",
       "\\item[mu\\{{[}\\}3\\{{]}\\}] 5.52580570617116\n",
       "\\item[mu\\{{[}\\}3\\{{]}\\}] 5.52580570617116\n",
       "\\end{description*}\n"
      ],
      "text/markdown": [
       "mu[1]\n",
       ":   5.03325740053357mu[1]\n",
       ":   5.03325740053357mu[1]\n",
       ":   5.03325740053357mu[1]\n",
       ":   5.03325740053357mu[1]\n",
       ":   5.03325740053357mu[1]\n",
       ":   5.03325740053357mu[1]\n",
       ":   5.03325740053357mu[1]\n",
       ":   5.03325740053357mu[1]\n",
       ":   5.03325740053357mu[1]\n",
       ":   5.03325740053357mu[2]\n",
       ":   4.65852099000541mu[2]\n",
       ":   4.65852099000541mu[2]\n",
       ":   4.65852099000541mu[2]\n",
       ":   4.65852099000541mu[2]\n",
       ":   4.65852099000541mu[2]\n",
       ":   4.65852099000541mu[2]\n",
       ":   4.65852099000541mu[2]\n",
       ":   4.65852099000541mu[2]\n",
       ":   4.65852099000541mu[2]\n",
       ":   4.65852099000541mu[3]\n",
       ":   5.52580570617116mu[3]\n",
       ":   5.52580570617116mu[3]\n",
       ":   5.52580570617116mu[3]\n",
       ":   5.52580570617116mu[3]\n",
       ":   5.52580570617116mu[3]\n",
       ":   5.52580570617116mu[3]\n",
       ":   5.52580570617116mu[3]\n",
       ":   5.52580570617116mu[3]\n",
       ":   5.52580570617116mu[3]\n",
       ":   5.52580570617116\n",
       "\n"
      ],
      "text/plain": [
       "   mu[1]    mu[1]    mu[1]    mu[1]    mu[1]    mu[1]    mu[1]    mu[1] \n",
       "5.033257 5.033257 5.033257 5.033257 5.033257 5.033257 5.033257 5.033257 \n",
       "   mu[1]    mu[1]    mu[2]    mu[2]    mu[2]    mu[2]    mu[2]    mu[2] \n",
       "5.033257 5.033257 4.658521 4.658521 4.658521 4.658521 4.658521 4.658521 \n",
       "   mu[2]    mu[2]    mu[2]    mu[2]    mu[3]    mu[3]    mu[3]    mu[3] \n",
       "4.658521 4.658521 4.658521 4.658521 5.525806 5.525806 5.525806 5.525806 \n",
       "   mu[3]    mu[3]    mu[3]    mu[3]    mu[3]    mu[3] \n",
       "5.525806 5.525806 5.525806 5.525806 5.525806 5.525806 "
      ]
     },
     "metadata": {},
     "output_type": "display_data"
    }
   ],
   "source": [
    "y_pred_mod"
   ]
  },
  {
   "cell_type": "code",
   "execution_count": 41,
   "metadata": {},
   "outputs": [],
   "source": [
    "residuals = data_jags$y - y_pred_mod"
   ]
  },
  {
   "cell_type": "code",
   "execution_count": 43,
   "metadata": {},
   "outputs": [
    {
     "data": {
      "image/png": "[encoded data removed]",
      "text/plain": [
       "plot without title"
      ]
     },
     "metadata": {
      "image/png": {
       "height": 420,
       "width": 420
      },
      "text/plain": {
       "height": 420,
       "width": 420
      }
     },
     "output_type": "display_data"
    }
   ],
   "source": [
    "plot(residuals)"
   ]
  },
  {
   "cell_type": "markdown",
   "metadata": {},
   "source": [
    "No patterns here so it looks good."
   ]
  },
  {
   "cell_type": "code",
   "execution_count": 44,
   "metadata": {},
   "outputs": [
    {
     "data": {
      "image/png": "[encoded data removed]",
      "text/plain": [
       "plot without title"
      ]
     },
     "metadata": {
      "image/png": {
       "height": 420,
       "width": 420
      },
      "text/plain": {
       "height": 420,
       "width": 420
      }
     },
     "output_type": "display_data"
    }
   ],
   "source": [
    "plot(y_pred_mod, residuals)"
   ]
  },
  {
   "cell_type": "markdown",
   "metadata": {},
   "source": [
    "Note that the Residuals for group 1 seems to have much higher variance than group 3, which could have handled using seperate variance parameters for each group"
   ]
  },
  {
   "cell_type": "markdown",
   "metadata": {},
   "source": [
    "### Posterior analysis"
   ]
  },
  {
   "cell_type": "code",
   "execution_count": 45,
   "metadata": {},
   "outputs": [
    {
     "data": {
      "text/plain": [
       "\n",
       "Iterations = 1001:6000\n",
       "Thinning interval = 1 \n",
       "Number of chains = 3 \n",
       "Sample size per chain = 5000 \n",
       "\n",
       "1. Empirical mean and standard deviation for each variable,\n",
       "   plus standard error of the mean:\n",
       "\n",
       "        Mean      SD  Naive SE Time-series SE\n",
       "mu[1] 5.0333 0.22655 0.0018498      0.0018498\n",
       "mu[2] 4.6585 0.22668 0.0018509      0.0018669\n",
       "mu[3] 5.5258 0.22739 0.0018566      0.0018567\n",
       "sigma 0.7125 0.09306 0.0007598      0.0008509\n",
       "\n",
       "2. Quantiles for each variable:\n",
       "\n",
       "        2.5%    25%    50%    75%  97.5%\n",
       "mu[1] 4.5871 4.8833 5.0340 5.1812 5.4711\n",
       "mu[2] 4.2148 4.5080 4.6568 4.8089 5.1099\n",
       "mu[3] 5.0830 5.3762 5.5270 5.6755 5.9707\n",
       "sigma 0.5594 0.6477 0.7032 0.7664 0.9239\n"
      ]
     },
     "metadata": {},
     "output_type": "display_data"
    }
   ],
   "source": [
    "summary(model_sim)"
   ]
  },
  {
   "cell_type": "code",
   "execution_count": 47,
   "metadata": {},
   "outputs": [
    {
     "data": {
      "text/html": [
       "\n",
       "<table width=\"100%\" summary=\"page for HPDinterval {coda}\"><tr><td>HPDinterval {coda}</td><td style=\"text-align: right;\">R Documentation</td></tr></table>\n",
       "\n",
       "<h2>Highest Posterior Density intervals</h2>\n",
       "\n",
       "<h3>Description</h3>\n",
       "\n",
       "<p>Create Highest Posterior Density (HPD) intervals for the parameters in\n",
       "an MCMC sample.\n",
       "</p>\n",
       "\n",
       "\n",
       "<h3>Usage</h3>\n",
       "\n",
       "<pre>\n",
       "HPDinterval(obj, prob = 0.95, ...)\n",
       "## S3 method for class 'mcmc'\n",
       "HPDinterval(obj, prob = 0.95, ...)\n",
       "## S3 method for class 'mcmc.list'\n",
       "HPDinterval(obj, prob = 0.95, ...)\n",
       "</pre>\n",
       "\n",
       "\n",
       "<h3>Arguments</h3>\n",
       "\n",
       "<table summary=\"R argblock\">\n",
       "<tr valign=\"top\"><td><code>obj</code></td>\n",
       "<td>\n",
       "<p>The object containing the MCMC sample - usually of class\n",
       "<code>\"mcmc\"</code> or <code>\"mcmc.list\"</code></p>\n",
       "</td></tr></table>\n",
       "<p>.\n",
       "</p>\n",
       "<table summary=\"R argblock\">\n",
       "<tr valign=\"top\"><td><code>prob</code></td>\n",
       "<td>\n",
       "<p>A numeric scalar in the interval (0,1) giving the target\n",
       "probability content of the intervals.  The nominal probability\n",
       "content of the intervals is the multiple of <code>1/nrow(obj)</code>\n",
       "nearest to <code>prob</code>.</p>\n",
       "</td></tr>\n",
       "<tr valign=\"top\"><td><code>...</code></td>\n",
       "<td>\n",
       "<p>Optional additional arguments for methods.  None are used\n",
       "at present.</p>\n",
       "</td></tr>\n",
       "</table>\n",
       "\n",
       "\n",
       "<h3>Details</h3>\n",
       "\n",
       "<p>For each parameter the interval is constructed from the empirical cdf\n",
       "of the sample as the shortest interval for which the difference in\n",
       "the ecdf values of the endpoints is the nominal probability.  Assuming\n",
       "that the distribution is not severely multimodal, this is the HPD interval.\n",
       "</p>\n",
       "\n",
       "\n",
       "<h3>Value</h3>\n",
       "\n",
       "<p>For an <code>\"mcmc\"</code> object, a matrix with columns <code>\"lower\"</code> and\n",
       "<code>\"upper\"</code> and rows corresponding to the parameters.  The\n",
       "attribute <code>\"Probability\"</code> is the nominal probability content of\n",
       "the intervals.  A list of such matrices is returned for an\n",
       "<code>\"mcmc.list\"</code> object.\n",
       "</p>\n",
       "\n",
       "\n",
       "<h3>Author(s)</h3>\n",
       "\n",
       "<p>Douglas Bates</p>\n",
       "\n",
       "\n",
       "<h3>Examples</h3>\n",
       "\n",
       "<pre>\n",
       "data(line)\n",
       "HPDinterval(line)\n",
       "</pre>\n",
       "\n",
       "<hr /><div style=\"text-align: center;\">[Package <em>coda</em> version 0.19-3 ]</div>"
      ],
      "text/latex": [
       "\\inputencoding{utf8}\n",
       "\\HeaderA{HPDinterval}{Highest Posterior Density intervals}{HPDinterval}\n",
       "\\methaliasA{HPDinterval.mcmc}{HPDinterval}{HPDinterval.mcmc}\n",
       "\\methaliasA{HPDinterval.mcmc.list}{HPDinterval}{HPDinterval.mcmc.list}\n",
       "\\keyword{univar}{HPDinterval}\n",
       "\\keyword{htest}{HPDinterval}\n",
       "%\n",
       "\\begin{Description}\\relax\n",
       "Create Highest Posterior Density (HPD) intervals for the parameters in\n",
       "an MCMC sample.\n",
       "\\end{Description}\n",
       "%\n",
       "\\begin{Usage}\n",
       "\\begin{verbatim}\n",
       "HPDinterval(obj, prob = 0.95, ...)\n",
       "## S3 method for class 'mcmc'\n",
       "HPDinterval(obj, prob = 0.95, ...)\n",
       "## S3 method for class 'mcmc.list'\n",
       "HPDinterval(obj, prob = 0.95, ...)\n",
       "\\end{verbatim}\n",
       "\\end{Usage}\n",
       "%\n",
       "\\begin{Arguments}\n",
       "\\begin{ldescription}\n",
       "\\item[\\code{obj}] The object containing the MCMC sample - usually of class\n",
       "\\code{\"mcmc\"} or \\code{\"mcmc.list\"}.\n",
       "\\item[\\code{prob}] A numeric scalar in the interval (0,1) giving the target\n",
       "probability content of the intervals.  The nominal probability\n",
       "content of the intervals is the multiple of \\code{1/nrow(obj)}\n",
       "nearest to \\code{prob}.\n",
       "\\item[\\code{...}] Optional additional arguments for methods.  None are used\n",
       "at present.\n",
       "\\end{ldescription}\n",
       "\\end{Arguments}\n",
       "%\n",
       "\\begin{Details}\\relax\n",
       "For each parameter the interval is constructed from the empirical cdf\n",
       "of the sample as the shortest interval for which the difference in\n",
       "the ecdf values of the endpoints is the nominal probability.  Assuming\n",
       "that the distribution is not severely multimodal, this is the HPD interval.\n",
       "\\end{Details}\n",
       "%\n",
       "\\begin{Value}\n",
       "For an \\code{\"mcmc\"} object, a matrix with columns \\code{\"lower\"} and\n",
       "\\code{\"upper\"} and rows corresponding to the parameters.  The\n",
       "attribute \\code{\"Probability\"} is the nominal probability content of\n",
       "the intervals.  A list of such matrices is returned for an\n",
       "\\code{\"mcmc.list\"} object.\n",
       "\\end{Value}\n",
       "%\n",
       "\\begin{Author}\\relax\n",
       "Douglas Bates\n",
       "\\end{Author}\n",
       "%\n",
       "\\begin{Examples}\n",
       "\\begin{ExampleCode}\n",
       "data(line)\n",
       "HPDinterval(line)\n",
       "\\end{ExampleCode}\n",
       "\\end{Examples}"
      ],
      "text/plain": [
       "HPDinterval                package:coda                R Documentation\n",
       "\n",
       "_\bH_\bi_\bg_\bh_\be_\bs_\bt _\bP_\bo_\bs_\bt_\be_\br_\bi_\bo_\br _\bD_\be_\bn_\bs_\bi_\bt_\by _\bi_\bn_\bt_\be_\br_\bv_\ba_\bl_\bs\n",
       "\n",
       "_\bD_\be_\bs_\bc_\br_\bi_\bp_\bt_\bi_\bo_\bn:\n",
       "\n",
       "     Create Highest Posterior Density (HPD) intervals for the\n",
       "     parameters in an MCMC sample.\n",
       "\n",
       "_\bU_\bs_\ba_\bg_\be:\n",
       "\n",
       "     HPDinterval(obj, prob = 0.95, ...)\n",
       "     ## S3 method for class 'mcmc'\n",
       "     HPDinterval(obj, prob = 0.95, ...)\n",
       "     ## S3 method for class 'mcmc.list'\n",
       "     HPDinterval(obj, prob = 0.95, ...)\n",
       "     \n",
       "_\bA_\br_\bg_\bu_\bm_\be_\bn_\bt_\bs:\n",
       "\n",
       "     obj: The object containing the MCMC sample - usually of class\n",
       "          ‘\"mcmc\"’ or ‘\"mcmc.list\"’\n",
       "     .\n",
       "\n",
       "    prob: A numeric scalar in the interval (0,1) giving the target\n",
       "          probability content of the intervals.  The nominal\n",
       "          probability content of the intervals is the multiple of\n",
       "          ‘1/nrow(obj)’ nearest to ‘prob’.\n",
       "\n",
       "     ...: Optional additional arguments for methods.  None are used at\n",
       "          present.\n",
       "\n",
       "_\bD_\be_\bt_\ba_\bi_\bl_\bs:\n",
       "\n",
       "     For each parameter the interval is constructed from the empirical\n",
       "     cdf of the sample as the shortest interval for which the\n",
       "     difference in the ecdf values of the endpoints is the nominal\n",
       "     probability.  Assuming that the distribution is not severely\n",
       "     multimodal, this is the HPD interval.\n",
       "\n",
       "_\bV_\ba_\bl_\bu_\be:\n",
       "\n",
       "     For an ‘\"mcmc\"’ object, a matrix with columns ‘\"lower\"’ and\n",
       "     ‘\"upper\"’ and rows corresponding to the parameters.  The attribute\n",
       "     ‘\"Probability\"’ is the nominal probability content of the\n",
       "     intervals.  A list of such matrices is returned for an\n",
       "     ‘\"mcmc.list\"’ object.\n",
       "\n",
       "_\bA_\bu_\bt_\bh_\bo_\br(_\bs):\n",
       "\n",
       "     Douglas Bates\n",
       "\n",
       "_\bE_\bx_\ba_\bm_\bp_\bl_\be_\bs:\n",
       "\n",
       "     data(line)\n",
       "     HPDinterval(line)\n",
       "     "
      ]
     },
     "metadata": {},
     "output_type": "display_data"
    }
   ],
   "source": [
    "?HPDinterval"
   ]
  },
  {
   "cell_type": "code",
   "execution_count": 57,
   "metadata": {},
   "outputs": [
    {
     "data": {
      "text/html": [
       "<ol>\n",
       "\t<li><table>\n",
       "<caption>A matrix: 4 × 2 of type dbl</caption>\n",
       "<thead>\n",
       "\t<tr><th></th><th scope=col>lower</th><th scope=col>upper</th></tr>\n",
       "</thead>\n",
       "<tbody>\n",
       "\t<tr><th scope=row>mu[1]</th><td>4.6001974</td><td>5.4924596</td></tr>\n",
       "\t<tr><th scope=row>mu[2]</th><td>4.2369695</td><td>5.1171467</td></tr>\n",
       "\t<tr><th scope=row>mu[3]</th><td>5.0603032</td><td>5.9552677</td></tr>\n",
       "\t<tr><th scope=row>sigma</th><td>0.5366454</td><td>0.8963942</td></tr>\n",
       "</tbody>\n",
       "</table>\n",
       "</li>\n",
       "\t<li><table>\n",
       "<caption>A matrix: 4 × 2 of type dbl</caption>\n",
       "<thead>\n",
       "\t<tr><th></th><th scope=col>lower</th><th scope=col>upper</th></tr>\n",
       "</thead>\n",
       "<tbody>\n",
       "\t<tr><th scope=row>mu[1]</th><td>4.5979007</td><td>5.4727463</td></tr>\n",
       "\t<tr><th scope=row>mu[2]</th><td>4.2093279</td><td>5.1103940</td></tr>\n",
       "\t<tr><th scope=row>mu[3]</th><td>5.0890943</td><td>5.9632761</td></tr>\n",
       "\t<tr><th scope=row>sigma</th><td>0.5487852</td><td>0.9054775</td></tr>\n",
       "</tbody>\n",
       "</table>\n",
       "</li>\n",
       "\t<li><table>\n",
       "<caption>A matrix: 4 × 2 of type dbl</caption>\n",
       "<thead>\n",
       "\t<tr><th></th><th scope=col>lower</th><th scope=col>upper</th></tr>\n",
       "</thead>\n",
       "<tbody>\n",
       "\t<tr><th scope=row>mu[1]</th><td>4.5989700</td><td>5.4718350</td></tr>\n",
       "\t<tr><th scope=row>mu[2]</th><td>4.2240230</td><td>5.1210564</td></tr>\n",
       "\t<tr><th scope=row>mu[3]</th><td>5.0865691</td><td>5.9706936</td></tr>\n",
       "\t<tr><th scope=row>sigma</th><td>0.5474902</td><td>0.8977824</td></tr>\n",
       "</tbody>\n",
       "</table>\n",
       "</li>\n",
       "</ol>\n"
      ],
      "text/latex": [
       "\\begin{enumerate}\n",
       "\\item A matrix: 4 × 2 of type dbl\n",
       "\\begin{tabular}{r|ll}\n",
       "  & lower & upper\\\\\n",
       "\\hline\n",
       "\tmu{[}1{]} & 4.6001974 & 5.4924596\\\\\n",
       "\tmu{[}2{]} & 4.2369695 & 5.1171467\\\\\n",
       "\tmu{[}3{]} & 5.0603032 & 5.9552677\\\\\n",
       "\tsigma & 0.5366454 & 0.8963942\\\\\n",
       "\\end{tabular}\n",
       "\n",
       "\\item A matrix: 4 × 2 of type dbl\n",
       "\\begin{tabular}{r|ll}\n",
       "  & lower & upper\\\\\n",
       "\\hline\n",
       "\tmu{[}1{]} & 4.5979007 & 5.4727463\\\\\n",
       "\tmu{[}2{]} & 4.2093279 & 5.1103940\\\\\n",
       "\tmu{[}3{]} & 5.0890943 & 5.9632761\\\\\n",
       "\tsigma & 0.5487852 & 0.9054775\\\\\n",
       "\\end{tabular}\n",
       "\n",
       "\\item A matrix: 4 × 2 of type dbl\n",
       "\\begin{tabular}{r|ll}\n",
       "  & lower & upper\\\\\n",
       "\\hline\n",
       "\tmu{[}1{]} & 4.5989700 & 5.4718350\\\\\n",
       "\tmu{[}2{]} & 4.2240230 & 5.1210564\\\\\n",
       "\tmu{[}3{]} & 5.0865691 & 5.9706936\\\\\n",
       "\tsigma & 0.5474902 & 0.8977824\\\\\n",
       "\\end{tabular}\n",
       "\n",
       "\\end{enumerate}\n"
      ],
      "text/markdown": [
       "1. \n",
       "A matrix: 4 × 2 of type dbl\n",
       "\n",
       "| <!--/--> | lower | upper |\n",
       "|---|---|---|\n",
       "| mu[1] | 4.6001974 | 5.4924596 |\n",
       "| mu[2] | 4.2369695 | 5.1171467 |\n",
       "| mu[3] | 5.0603032 | 5.9552677 |\n",
       "| sigma | 0.5366454 | 0.8963942 |\n",
       "\n",
       "\n",
       "2. \n",
       "A matrix: 4 × 2 of type dbl\n",
       "\n",
       "| <!--/--> | lower | upper |\n",
       "|---|---|---|\n",
       "| mu[1] | 4.5979007 | 5.4727463 |\n",
       "| mu[2] | 4.2093279 | 5.1103940 |\n",
       "| mu[3] | 5.0890943 | 5.9632761 |\n",
       "| sigma | 0.5487852 | 0.9054775 |\n",
       "\n",
       "\n",
       "3. \n",
       "A matrix: 4 × 2 of type dbl\n",
       "\n",
       "| <!--/--> | lower | upper |\n",
       "|---|---|---|\n",
       "| mu[1] | 4.5989700 | 5.4718350 |\n",
       "| mu[2] | 4.2240230 | 5.1210564 |\n",
       "| mu[3] | 5.0865691 | 5.9706936 |\n",
       "| sigma | 0.5474902 | 0.8977824 |\n",
       "\n",
       "\n",
       "\n",
       "\n"
      ],
      "text/plain": [
       "[[1]]\n",
       "          lower     upper\n",
       "mu[1] 4.6001974 5.4924596\n",
       "mu[2] 4.2369695 5.1171467\n",
       "mu[3] 5.0603032 5.9552677\n",
       "sigma 0.5366454 0.8963942\n",
       "attr(,\"Probability\")\n",
       "[1] 0.95\n",
       "\n",
       "[[2]]\n",
       "          lower     upper\n",
       "mu[1] 4.5979007 5.4727463\n",
       "mu[2] 4.2093279 5.1103940\n",
       "mu[3] 5.0890943 5.9632761\n",
       "sigma 0.5487852 0.9054775\n",
       "attr(,\"Probability\")\n",
       "[1] 0.95\n",
       "\n",
       "[[3]]\n",
       "          lower     upper\n",
       "mu[1] 4.5989700 5.4718350\n",
       "mu[2] 4.2240230 5.1210564\n",
       "mu[3] 5.0865691 5.9706936\n",
       "sigma 0.5474902 0.8977824\n",
       "attr(,\"Probability\")\n",
       "[1] 0.95\n"
      ]
     },
     "metadata": {},
     "output_type": "display_data"
    }
   ],
   "source": [
    "HPDinterval(model_sim, 0.95)"
   ]
  },
  {
   "cell_type": "markdown",
   "metadata": {},
   "source": [
    "### To find if Treatment 2 yields better results than Control group."
   ]
  },
  {
   "cell_type": "code",
   "execution_count": 59,
   "metadata": {},
   "outputs": [
    {
     "data": {
      "text/html": [
       "0.9378"
      ],
      "text/latex": [
       "0.9378"
      ],
      "text/markdown": [
       "0.9378"
      ],
      "text/plain": [
       "[1] 0.9378"
      ]
     },
     "metadata": {},
     "output_type": "display_data"
    }
   ],
   "source": [
    "#Indicator variables\n",
    "mean(model_csim[,3] > model_csim[,1])"
   ]
  },
  {
   "cell_type": "markdown",
   "metadata": {},
   "source": [
    "#### Probability that mean yield is greater for Treatment group 2 > Control Group is 0.9378, which is a very high probability!!"
   ]
  },
  {
   "cell_type": "markdown",
   "metadata": {},
   "source": [
    "### Suppose Treatment 2 is costly to put in production, and in order to be worthwhile, this treatment must increase the mean yield by 10%. What's the posterior probability that the increase is atleast that? "
   ]
  },
  {
   "cell_type": "code",
   "execution_count": 61,
   "metadata": {},
   "outputs": [
    {
     "data": {
      "text/html": [
       "0.4852"
      ],
      "text/latex": [
       "0.4852"
      ],
      "text/markdown": [
       "0.4852"
      ],
      "text/plain": [
       "[1] 0.4852"
      ]
     },
     "metadata": {},
     "output_type": "display_data"
    }
   ],
   "source": [
    "mean(model_csim[,3] > 1.1 * model_csim[,1])"
   ]
  },
  {
   "cell_type": "markdown",
   "metadata": {},
   "source": [
    "**That is, the probability that the adoption of treatment 2 will increase the yield by 10% is 0.4852**"
   ]
  }
 ],
 "metadata": {
  "kernelspec": {
   "display_name": "R",
   "language": "R",
   "name": "ir"
  },
  "language_info": {
   "codemirror_mode": "r",
   "file_extension": ".r",
   "mimetype": "text/x-r-source",
   "name": "R",
   "pygments_lexer": "r",
   "version": "3.5.1"
  }
 },
 "nbformat": 4,
 "nbformat_minor": 4
}
